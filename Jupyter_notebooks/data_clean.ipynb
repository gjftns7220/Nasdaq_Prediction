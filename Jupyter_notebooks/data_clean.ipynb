{
 "cells": [
  {
   "cell_type": "code",
   "execution_count": 1,
   "metadata": {},
   "outputs": [
    {
     "name": "stderr",
     "output_type": "stream",
     "text": [
      "C:\\Users\\gjftn\\AppData\\Local\\Temp\\ipykernel_2728\\3678062400.py:5: UserWarning: Could not infer format, so each element will be parsed individually, falling back to `dateutil`. To ensure parsing is consistent and as-expected, please specify a format.\n",
      "  df['Date'] = pd.to_datetime(df['Date'])\n"
     ]
    }
   ],
   "source": [
    "import pandas as pd\n",
    "\n",
    "\n",
    "df = pd.read_csv('sentiment.csv')\n",
    "df['Date'] = pd.to_datetime(df['Date'])\n",
    "\n",
    "columns_to_delete = ['Bullish Average', 'Bullish Average +St. Dev.', 'Bullish Average -St. Dev.','S&P 500 Weekly High','S&P 500 Weekly Low','S&P 500 Weekly Close']\n",
    "df.drop(columns=columns_to_delete, inplace=True)\n",
    "\n",
    "df.set_index('Date', inplace=True)\n",
    "\n",
    "all_dates = pd.date_range(start=df.index.min(), end=df.index.max(), freq='D')\n",
    "\n",
    "df = df.reindex(all_dates)\n",
    "\n",
    "df.interpolate(method='time', inplace=True)\n",
    "\n",
    "df.reset_index(inplace=True)\n",
    "\n",
    "df['date'] = df['index'] \n",
    "\n",
    "df.drop(columns='index', inplace=True)\n",
    "df.to_csv('sentiment_interpolated.csv', index=False)\n"
   ]
  },
  {
   "cell_type": "code",
   "execution_count": 7,
   "metadata": {},
   "outputs": [],
   "source": [
    "import pandas as pd\n",
    "\n",
    "\n",
    "df_sentiment = pd.read_csv('sentiment_interpolated.csv')\n",
    "df_featured = pd.read_csv('US_TOP_100_stocks.csv')\n",
    "\n",
    "\n",
    "df_merged = pd.merge(df_sentiment, df_featured, on='date', how='outer')\n",
    "df_merged.dropna(inplace=True)\n",
    "df_merged.to_csv('US_TOP_100_stock.csv', index=False)\n"
   ]
  },
  {
   "cell_type": "code",
   "execution_count": 21,
   "metadata": {},
   "outputs": [
    {
     "name": "stdout",
     "output_type": "stream",
     "text": [
      "Index(['Bullish', 'Neutral', 'Bearish', 'Total', 'Bullish 8-week Mov Avg',\n",
      "       'Bull-Bear Spread', 'date', 'open', 'high', 'low', 'close', 'adj close',\n",
      "       'volume', 'day_of_week', 'rate', 'middle', 'tp', 'boll', 'boll_ub',\n",
      "       'boll_lb', 'macd', 'macds', 'macdh', 'pvo', 'pvos', 'pvoh', 'ppo',\n",
      "       'ppos', 'ppoh', 'qqe', 'qqel', 'qqes', 'cr', 'cr-ma1', 'cr-ma2',\n",
      "       'cr-ma3', 'tr', 'dx', 'adx', 'adxr', 'log-ret', 'wt1', 'wt2',\n",
      "       'supertrend_ub', 'supertrend_lb', 'supertrend', 'bop', 'cti', 'eribull',\n",
      "       'eribear', 'rvgi', 'rvgis', 'kst', 'ao', 'aroon', 'atr', 'cci',\n",
      "       'change', 'chop', 'cmo', 'coppock', 'dma', 'ichimoku', 'inertia', 'ftr',\n",
      "       'kama', 'kdjk', 'kdjd', 'kdjj', 'ker', 'mfi', 'ndi', 'pdi', 'pgo',\n",
      "       'psl', 'rsi', 'rsv', 'stochrsi', 'tema', 'trix', 'wr', 'vr', 'vwma'],\n",
      "      dtype='object')\n"
     ]
    }
   ],
   "source": [
    "print(df_merged.columns)"
   ]
  },
  {
   "cell_type": "code",
   "execution_count": 3,
   "metadata": {},
   "outputs": [],
   "source": [
    "df_vix = pd.read_csv('dataset\\^VIX.csv')\n",
    "\n",
    "# Convert the 'Date' column to datetime in df_vix\n",
    "df_vix['date'] = pd.to_datetime(df_vix['Date'])\n",
    "\n",
    "# Assuming df_merged is your other DataFrame\n",
    "# Convert the 'date' column in df_merged to datetime if it's not already\n",
    "if df_merged['date'].dtype == 'object':\n",
    "    df_merged['date'] = pd.to_datetime(df_merged['date'])\n",
    "\n",
    "# Now perform the merge\n",
    "df_merged2 = pd.merge(df_merged, df_vix, on='date', how='inner')"
   ]
  },
  {
   "cell_type": "code",
   "execution_count": 4,
   "metadata": {},
   "outputs": [],
   "source": [
    "df_merged2['vix_close'] = df_merged2['Close']\n",
    "df_merged2['vix_open'] = df_merged2['Open']\n",
    "columns_to_drop = ['open', 'high', 'low', 'close', 'adj close', 'Total', 'Date', 'Open', 'High', 'Low', 'Close', 'Adj Close', 'Volume']\n",
    "\n",
    "# Assuming df is your DataFrame\n",
    "df_merged2 = df_merged2.drop(columns=columns_to_drop, errors='ignore')\n"
   ]
  },
  {
   "cell_type": "code",
   "execution_count": 5,
   "metadata": {},
   "outputs": [],
   "source": [
    "df_merged2.to_csv('merged_cleaned_data2.csv', index=False)"
   ]
  },
  {
   "cell_type": "code",
   "execution_count": 6,
   "metadata": {},
   "outputs": [
    {
     "name": "stdout",
     "output_type": "stream",
     "text": [
      "Index(['Bullish', 'Neutral', 'Bearish', 'Bullish 8-week Mov Avg',\n",
      "       'Bull-Bear Spread', 'date', 'volume', 'day_of_week', 'rate', 'middle',\n",
      "       'tp', 'boll', 'boll_ub', 'boll_lb', 'macd', 'macds', 'macdh', 'pvo',\n",
      "       'pvos', 'pvoh', 'ppo', 'ppos', 'ppoh', 'qqe', 'qqel', 'qqes', 'cr',\n",
      "       'cr-ma1', 'cr-ma2', 'cr-ma3', 'tr', 'dx', 'adx', 'adxr', 'log-ret',\n",
      "       'wt1', 'wt2', 'supertrend_ub', 'supertrend_lb', 'supertrend', 'bop',\n",
      "       'cti', 'eribull', 'eribear', 'rvgi', 'rvgis', 'kst', 'ao', 'aroon',\n",
      "       'atr', 'cci', 'change', 'chop', 'cmo', 'coppock', 'dma', 'ichimoku',\n",
      "       'inertia', 'ftr', 'kama', 'kdjk', 'kdjd', 'kdjj', 'ker', 'mfi', 'ndi',\n",
      "       'pdi', 'pgo', 'psl', 'rsi', 'rsv', 'stochrsi', 'tema', 'trix', 'wr',\n",
      "       'vr', 'vwma', 'vix_close', 'vix_open'],\n",
      "      dtype='object')\n"
     ]
    }
   ],
   "source": [
    "print(df_merged2.columns)"
   ]
  }
 ],
 "metadata": {
  "kernelspec": {
   "display_name": "Python 3",
   "language": "python",
   "name": "python3"
  },
  "language_info": {
   "codemirror_mode": {
    "name": "ipython",
    "version": 3
   },
   "file_extension": ".py",
   "mimetype": "text/x-python",
   "name": "python",
   "nbconvert_exporter": "python",
   "pygments_lexer": "ipython3",
   "version": "3.10.10"
  }
 },
 "nbformat": 4,
 "nbformat_minor": 2
}
