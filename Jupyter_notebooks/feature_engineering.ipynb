{
 "cells": [
  {
   "cell_type": "code",
   "execution_count": 2,
   "metadata": {},
   "outputs": [
    {
     "name": "stderr",
     "output_type": "stream",
     "text": [
      "C:\\Users\\gjftn\\AppData\\Roaming\\Python\\Python310\\site-packages\\stockstats.py:1058: RuntimeWarning: invalid value encountered in scalar divide\n",
      "  return rn / rd\n",
      "C:\\Users\\gjftn\\AppData\\Roaming\\Python\\Python310\\site-packages\\stockstats.py:1057: RuntimeWarning: invalid value encountered in scalar power\n",
      "  rd = (divisor * (window * y2_sum - y_sum * y_sum)) ** 0.5\n",
      "C:\\Users\\gjftn\\AppData\\Roaming\\Python\\Python310\\site-packages\\stockstats.py:1058: RuntimeWarning: invalid value encountered in scalar divide\n",
      "  return rn / rd\n",
      "C:\\Users\\gjftn\\AppData\\Roaming\\Python\\Python310\\site-packages\\stockstats.py:1057: RuntimeWarning: invalid value encountered in scalar power\n",
      "  rd = (divisor * (window * y2_sum - y_sum * y_sum)) ** 0.5\n"
     ]
    }
   ],
   "source": [
    "import pandas as pd\n",
    "import numpy as np\n",
    "import stockstats as sst\n",
    "\n",
    "df = pd.read_csv(\"processed_ticker.csv\")\n",
    "df['Date'] = pd.to_datetime(df['Date'])\n",
    "df[\"day_of_week\"] = df['Date'].dt.day_of_week\n",
    "\n",
    "stock_df = sst.wrap(df)\n",
    "stock_df.init_all()\n",
    "df = sst.unwrap(stock_df)\n",
    "stock_df.to_csv(\"full_nasdaq.csv\")"
   ]
  }
 ],
 "metadata": {
  "kernelspec": {
   "display_name": "base",
   "language": "python",
   "name": "python3"
  },
  "language_info": {
   "codemirror_mode": {
    "name": "ipython",
    "version": 3
   },
   "file_extension": ".py",
   "mimetype": "text/x-python",
   "name": "python",
   "nbconvert_exporter": "python",
   "pygments_lexer": "ipython3",
   "version": "3.10.10"
  }
 },
 "nbformat": 4,
 "nbformat_minor": 2
}
